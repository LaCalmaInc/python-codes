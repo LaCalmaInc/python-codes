{
 "cells": [
  {
   "cell_type": "code",
   "execution_count": 2,
   "metadata": {},
   "outputs": [],
   "source": [
    "import matplotlib as plt\n",
    "import numpy as np\n",
    "import seaborn as sns\n",
    "import pandas as pd\n",
    "import plotly.graph_objects as go\n",
    "import matplotlib.pyplot as plt\n",
    "import plotly.express as px\n",
    "import squarify\n",
    "import ast\n",
    "pd.options.mode.chained_assignment = None"
   ]
  },
  {
   "cell_type": "markdown",
   "metadata": {},
   "source": [
    "**Tarea 1 VD**\n",
    "\n",
    "-Visualizacion marcas de autos"
   ]
  },
  {
   "cell_type": "code",
   "execution_count": 21,
   "metadata": {},
   "outputs": [
    {
     "data": {
      "application/vnd.plotly.v1+json": {
       "config": {
        "plotlyServerURL": "https://plot.ly"
       },
       "data": [
        {
         "branchvalues": "total",
         "customdata": [
          [
           6
          ],
          [
           17
          ],
          [
           9
          ],
          [
           12.6875
          ]
         ],
         "domain": {
          "x": [
           0,
           1
          ],
          "y": [
           0,
           1
          ]
         },
         "hovertemplate": "labels=%{label}<br>Autos_sum=%{value}<br>parent=%{parent}<br>id=%{id}<br>Autos=%{color}<extra></extra>",
         "ids": [
          "WCOTY/Honda",
          "WCOTY/Mazda",
          "WCOTY/Toyota",
          "WCOTY"
         ],
         "labels": [
          "Honda",
          "Mazda",
          "Toyota",
          "WCOTY"
         ],
         "marker": {
          "coloraxis": "coloraxis",
          "colors": [
           6,
           17,
           9,
           12.6875
          ]
         },
         "name": "",
         "parents": [
          "WCOTY",
          "WCOTY",
          "WCOTY",
          ""
         ],
         "type": "treemap",
         "values": [
          6,
          17,
          9,
          32
         ]
        }
       ],
       "layout": {
        "coloraxis": {
         "colorbar": {
          "title": {
           "text": "Autos"
          }
         },
         "colorscale": [
          [
           0,
           "#440154"
          ],
          [
           0.1111111111111111,
           "#482878"
          ],
          [
           0.2222222222222222,
           "#3e4989"
          ],
          [
           0.3333333333333333,
           "#31688e"
          ],
          [
           0.4444444444444444,
           "#26828e"
          ],
          [
           0.5555555555555556,
           "#1f9e89"
          ],
          [
           0.6666666666666666,
           "#35b779"
          ],
          [
           0.7777777777777778,
           "#6ece58"
          ],
          [
           0.8888888888888888,
           "#b5de2b"
          ],
          [
           1,
           "#fde725"
          ]
         ]
        },
        "legend": {
         "tracegroupgap": 0
        },
        "margin": {
         "t": 60
        },
        "template": {
         "data": {
          "bar": [
           {
            "error_x": {
             "color": "#2a3f5f"
            },
            "error_y": {
             "color": "#2a3f5f"
            },
            "marker": {
             "line": {
              "color": "#E5ECF6",
              "width": 0.5
             },
             "pattern": {
              "fillmode": "overlay",
              "size": 10,
              "solidity": 0.2
             }
            },
            "type": "bar"
           }
          ],
          "barpolar": [
           {
            "marker": {
             "line": {
              "color": "#E5ECF6",
              "width": 0.5
             },
             "pattern": {
              "fillmode": "overlay",
              "size": 10,
              "solidity": 0.2
             }
            },
            "type": "barpolar"
           }
          ],
          "carpet": [
           {
            "aaxis": {
             "endlinecolor": "#2a3f5f",
             "gridcolor": "white",
             "linecolor": "white",
             "minorgridcolor": "white",
             "startlinecolor": "#2a3f5f"
            },
            "baxis": {
             "endlinecolor": "#2a3f5f",
             "gridcolor": "white",
             "linecolor": "white",
             "minorgridcolor": "white",
             "startlinecolor": "#2a3f5f"
            },
            "type": "carpet"
           }
          ],
          "choropleth": [
           {
            "colorbar": {
             "outlinewidth": 0,
             "ticks": ""
            },
            "type": "choropleth"
           }
          ],
          "contour": [
           {
            "colorbar": {
             "outlinewidth": 0,
             "ticks": ""
            },
            "colorscale": [
             [
              0,
              "#0d0887"
             ],
             [
              0.1111111111111111,
              "#46039f"
             ],
             [
              0.2222222222222222,
              "#7201a8"
             ],
             [
              0.3333333333333333,
              "#9c179e"
             ],
             [
              0.4444444444444444,
              "#bd3786"
             ],
             [
              0.5555555555555556,
              "#d8576b"
             ],
             [
              0.6666666666666666,
              "#ed7953"
             ],
             [
              0.7777777777777778,
              "#fb9f3a"
             ],
             [
              0.8888888888888888,
              "#fdca26"
             ],
             [
              1,
              "#f0f921"
             ]
            ],
            "type": "contour"
           }
          ],
          "contourcarpet": [
           {
            "colorbar": {
             "outlinewidth": 0,
             "ticks": ""
            },
            "type": "contourcarpet"
           }
          ],
          "heatmap": [
           {
            "colorbar": {
             "outlinewidth": 0,
             "ticks": ""
            },
            "colorscale": [
             [
              0,
              "#0d0887"
             ],
             [
              0.1111111111111111,
              "#46039f"
             ],
             [
              0.2222222222222222,
              "#7201a8"
             ],
             [
              0.3333333333333333,
              "#9c179e"
             ],
             [
              0.4444444444444444,
              "#bd3786"
             ],
             [
              0.5555555555555556,
              "#d8576b"
             ],
             [
              0.6666666666666666,
              "#ed7953"
             ],
             [
              0.7777777777777778,
              "#fb9f3a"
             ],
             [
              0.8888888888888888,
              "#fdca26"
             ],
             [
              1,
              "#f0f921"
             ]
            ],
            "type": "heatmap"
           }
          ],
          "heatmapgl": [
           {
            "colorbar": {
             "outlinewidth": 0,
             "ticks": ""
            },
            "colorscale": [
             [
              0,
              "#0d0887"
             ],
             [
              0.1111111111111111,
              "#46039f"
             ],
             [
              0.2222222222222222,
              "#7201a8"
             ],
             [
              0.3333333333333333,
              "#9c179e"
             ],
             [
              0.4444444444444444,
              "#bd3786"
             ],
             [
              0.5555555555555556,
              "#d8576b"
             ],
             [
              0.6666666666666666,
              "#ed7953"
             ],
             [
              0.7777777777777778,
              "#fb9f3a"
             ],
             [
              0.8888888888888888,
              "#fdca26"
             ],
             [
              1,
              "#f0f921"
             ]
            ],
            "type": "heatmapgl"
           }
          ],
          "histogram": [
           {
            "marker": {
             "pattern": {
              "fillmode": "overlay",
              "size": 10,
              "solidity": 0.2
             }
            },
            "type": "histogram"
           }
          ],
          "histogram2d": [
           {
            "colorbar": {
             "outlinewidth": 0,
             "ticks": ""
            },
            "colorscale": [
             [
              0,
              "#0d0887"
             ],
             [
              0.1111111111111111,
              "#46039f"
             ],
             [
              0.2222222222222222,
              "#7201a8"
             ],
             [
              0.3333333333333333,
              "#9c179e"
             ],
             [
              0.4444444444444444,
              "#bd3786"
             ],
             [
              0.5555555555555556,
              "#d8576b"
             ],
             [
              0.6666666666666666,
              "#ed7953"
             ],
             [
              0.7777777777777778,
              "#fb9f3a"
             ],
             [
              0.8888888888888888,
              "#fdca26"
             ],
             [
              1,
              "#f0f921"
             ]
            ],
            "type": "histogram2d"
           }
          ],
          "histogram2dcontour": [
           {
            "colorbar": {
             "outlinewidth": 0,
             "ticks": ""
            },
            "colorscale": [
             [
              0,
              "#0d0887"
             ],
             [
              0.1111111111111111,
              "#46039f"
             ],
             [
              0.2222222222222222,
              "#7201a8"
             ],
             [
              0.3333333333333333,
              "#9c179e"
             ],
             [
              0.4444444444444444,
              "#bd3786"
             ],
             [
              0.5555555555555556,
              "#d8576b"
             ],
             [
              0.6666666666666666,
              "#ed7953"
             ],
             [
              0.7777777777777778,
              "#fb9f3a"
             ],
             [
              0.8888888888888888,
              "#fdca26"
             ],
             [
              1,
              "#f0f921"
             ]
            ],
            "type": "histogram2dcontour"
           }
          ],
          "mesh3d": [
           {
            "colorbar": {
             "outlinewidth": 0,
             "ticks": ""
            },
            "type": "mesh3d"
           }
          ],
          "parcoords": [
           {
            "line": {
             "colorbar": {
              "outlinewidth": 0,
              "ticks": ""
             }
            },
            "type": "parcoords"
           }
          ],
          "pie": [
           {
            "automargin": true,
            "type": "pie"
           }
          ],
          "scatter": [
           {
            "fillpattern": {
             "fillmode": "overlay",
             "size": 10,
             "solidity": 0.2
            },
            "type": "scatter"
           }
          ],
          "scatter3d": [
           {
            "line": {
             "colorbar": {
              "outlinewidth": 0,
              "ticks": ""
             }
            },
            "marker": {
             "colorbar": {
              "outlinewidth": 0,
              "ticks": ""
             }
            },
            "type": "scatter3d"
           }
          ],
          "scattercarpet": [
           {
            "marker": {
             "colorbar": {
              "outlinewidth": 0,
              "ticks": ""
             }
            },
            "type": "scattercarpet"
           }
          ],
          "scattergeo": [
           {
            "marker": {
             "colorbar": {
              "outlinewidth": 0,
              "ticks": ""
             }
            },
            "type": "scattergeo"
           }
          ],
          "scattergl": [
           {
            "marker": {
             "colorbar": {
              "outlinewidth": 0,
              "ticks": ""
             }
            },
            "type": "scattergl"
           }
          ],
          "scattermapbox": [
           {
            "marker": {
             "colorbar": {
              "outlinewidth": 0,
              "ticks": ""
             }
            },
            "type": "scattermapbox"
           }
          ],
          "scatterpolar": [
           {
            "marker": {
             "colorbar": {
              "outlinewidth": 0,
              "ticks": ""
             }
            },
            "type": "scatterpolar"
           }
          ],
          "scatterpolargl": [
           {
            "marker": {
             "colorbar": {
              "outlinewidth": 0,
              "ticks": ""
             }
            },
            "type": "scatterpolargl"
           }
          ],
          "scatterternary": [
           {
            "marker": {
             "colorbar": {
              "outlinewidth": 0,
              "ticks": ""
             }
            },
            "type": "scatterternary"
           }
          ],
          "surface": [
           {
            "colorbar": {
             "outlinewidth": 0,
             "ticks": ""
            },
            "colorscale": [
             [
              0,
              "#0d0887"
             ],
             [
              0.1111111111111111,
              "#46039f"
             ],
             [
              0.2222222222222222,
              "#7201a8"
             ],
             [
              0.3333333333333333,
              "#9c179e"
             ],
             [
              0.4444444444444444,
              "#bd3786"
             ],
             [
              0.5555555555555556,
              "#d8576b"
             ],
             [
              0.6666666666666666,
              "#ed7953"
             ],
             [
              0.7777777777777778,
              "#fb9f3a"
             ],
             [
              0.8888888888888888,
              "#fdca26"
             ],
             [
              1,
              "#f0f921"
             ]
            ],
            "type": "surface"
           }
          ],
          "table": [
           {
            "cells": {
             "fill": {
              "color": "#EBF0F8"
             },
             "line": {
              "color": "white"
             }
            },
            "header": {
             "fill": {
              "color": "#C8D4E3"
             },
             "line": {
              "color": "white"
             }
            },
            "type": "table"
           }
          ]
         },
         "layout": {
          "annotationdefaults": {
           "arrowcolor": "#2a3f5f",
           "arrowhead": 0,
           "arrowwidth": 1
          },
          "autotypenumbers": "strict",
          "coloraxis": {
           "colorbar": {
            "outlinewidth": 0,
            "ticks": ""
           }
          },
          "colorscale": {
           "diverging": [
            [
             0,
             "#8e0152"
            ],
            [
             0.1,
             "#c51b7d"
            ],
            [
             0.2,
             "#de77ae"
            ],
            [
             0.3,
             "#f1b6da"
            ],
            [
             0.4,
             "#fde0ef"
            ],
            [
             0.5,
             "#f7f7f7"
            ],
            [
             0.6,
             "#e6f5d0"
            ],
            [
             0.7,
             "#b8e186"
            ],
            [
             0.8,
             "#7fbc41"
            ],
            [
             0.9,
             "#4d9221"
            ],
            [
             1,
             "#276419"
            ]
           ],
           "sequential": [
            [
             0,
             "#0d0887"
            ],
            [
             0.1111111111111111,
             "#46039f"
            ],
            [
             0.2222222222222222,
             "#7201a8"
            ],
            [
             0.3333333333333333,
             "#9c179e"
            ],
            [
             0.4444444444444444,
             "#bd3786"
            ],
            [
             0.5555555555555556,
             "#d8576b"
            ],
            [
             0.6666666666666666,
             "#ed7953"
            ],
            [
             0.7777777777777778,
             "#fb9f3a"
            ],
            [
             0.8888888888888888,
             "#fdca26"
            ],
            [
             1,
             "#f0f921"
            ]
           ],
           "sequentialminus": [
            [
             0,
             "#0d0887"
            ],
            [
             0.1111111111111111,
             "#46039f"
            ],
            [
             0.2222222222222222,
             "#7201a8"
            ],
            [
             0.3333333333333333,
             "#9c179e"
            ],
            [
             0.4444444444444444,
             "#bd3786"
            ],
            [
             0.5555555555555556,
             "#d8576b"
            ],
            [
             0.6666666666666666,
             "#ed7953"
            ],
            [
             0.7777777777777778,
             "#fb9f3a"
            ],
            [
             0.8888888888888888,
             "#fdca26"
            ],
            [
             1,
             "#f0f921"
            ]
           ]
          },
          "colorway": [
           "#636efa",
           "#EF553B",
           "#00cc96",
           "#ab63fa",
           "#FFA15A",
           "#19d3f3",
           "#FF6692",
           "#B6E880",
           "#FF97FF",
           "#FECB52"
          ],
          "font": {
           "color": "#2a3f5f"
          },
          "geo": {
           "bgcolor": "white",
           "lakecolor": "white",
           "landcolor": "#E5ECF6",
           "showlakes": true,
           "showland": true,
           "subunitcolor": "white"
          },
          "hoverlabel": {
           "align": "left"
          },
          "hovermode": "closest",
          "mapbox": {
           "style": "light"
          },
          "paper_bgcolor": "white",
          "plot_bgcolor": "#E5ECF6",
          "polar": {
           "angularaxis": {
            "gridcolor": "white",
            "linecolor": "white",
            "ticks": ""
           },
           "bgcolor": "#E5ECF6",
           "radialaxis": {
            "gridcolor": "white",
            "linecolor": "white",
            "ticks": ""
           }
          },
          "scene": {
           "xaxis": {
            "backgroundcolor": "#E5ECF6",
            "gridcolor": "white",
            "gridwidth": 2,
            "linecolor": "white",
            "showbackground": true,
            "ticks": "",
            "zerolinecolor": "white"
           },
           "yaxis": {
            "backgroundcolor": "#E5ECF6",
            "gridcolor": "white",
            "gridwidth": 2,
            "linecolor": "white",
            "showbackground": true,
            "ticks": "",
            "zerolinecolor": "white"
           },
           "zaxis": {
            "backgroundcolor": "#E5ECF6",
            "gridcolor": "white",
            "gridwidth": 2,
            "linecolor": "white",
            "showbackground": true,
            "ticks": "",
            "zerolinecolor": "white"
           }
          },
          "shapedefaults": {
           "line": {
            "color": "#2a3f5f"
           }
          },
          "ternary": {
           "aaxis": {
            "gridcolor": "white",
            "linecolor": "white",
            "ticks": ""
           },
           "baxis": {
            "gridcolor": "white",
            "linecolor": "white",
            "ticks": ""
           },
           "bgcolor": "#E5ECF6",
           "caxis": {
            "gridcolor": "white",
            "linecolor": "white",
            "ticks": ""
           }
          },
          "title": {
           "x": 0.05
          },
          "xaxis": {
           "automargin": true,
           "gridcolor": "white",
           "linecolor": "white",
           "ticks": "",
           "title": {
            "standoff": 15
           },
           "zerolinecolor": "white",
           "zerolinewidth": 2
          },
          "yaxis": {
           "automargin": true,
           "gridcolor": "white",
           "linecolor": "white",
           "ticks": "",
           "title": {
            "standoff": 15
           },
           "zerolinecolor": "white",
           "zerolinewidth": 2
          }
         }
        },
        "title": {
         "text": "Marcas con mas autos finalistas del WCOTY 2005-2024"
        }
       }
      }
     },
     "metadata": {},
     "output_type": "display_data"
    }
   ],
   "source": [
    "#-------------------Manipulacion de datos-------------------\n",
    "path3 = \"datos_generados2.csv\"\n",
    "\n",
    "df3 = pd.read_csv(path3)\n",
    "\n",
    "#obtencion de autos en las finales por marca\n",
    "y_mazda = [df3[str(year)].value_counts().get(\"mazda\",0) for year in range(2005,2025)]\n",
    "y_toyota = [df3[str(year)].value_counts().get(\"toyota\",0) for year in range(2005,2025)]\n",
    "y_honda = [df3[str(year)].value_counts().get(\"honda\",0) for year in range(2005,2025)]\n",
    "\n",
    "#suma de los autos totales en finales\n",
    "total_mazda = np.sum(y_mazda)\n",
    "total_toyota = np.sum(y_toyota)\n",
    "total_honda = np.sum(y_honda)\n",
    "\n",
    "#se crea un pequeño dataframe\n",
    "data = {\n",
    "    'Marca': ['Mazda', 'Honda', 'Toyota'],\n",
    "    'Autos': [total_mazda, total_honda, total_toyota]\n",
    "}\n",
    "\n",
    "df4 = pd.DataFrame(data)\n",
    "\n",
    "df4\n",
    "\n",
    "#-------------------Manipulacion de datos-------------------\n",
    "\n",
    "#-----------------------Visualizacion----------------------\n",
    "\n",
    "fig = px.treemap(data_frame=df4, path=[px.Constant('WCOTY'),'Marca'], values='Autos',color='Autos',color_continuous_scale='Viridis')\n",
    "\n",
    "fig.update_layout(title='Marcas con mas autos finalistas del WCOTY 2005-2024')\n",
    "\n",
    "fig.show()\n",
    "\n",
    "#-----------------------Visualizacion----------------------\n"
   ]
  },
  {
   "cell_type": "markdown",
   "metadata": {},
   "source": [
    "Visualizacion autores"
   ]
  },
  {
   "cell_type": "code",
   "execution_count": 59,
   "metadata": {},
   "outputs": [
    {
     "name": "stdout",
     "output_type": "stream",
     "text": [
      "Estamos en la url numero 1\n",
      "Estamos en la url numero 2\n",
      "Estamos en la url numero 3\n"
     ]
    },
    {
     "data": {
      "text/html": [
       "<div>\n",
       "<style scoped>\n",
       "    .dataframe tbody tr th:only-of-type {\n",
       "        vertical-align: middle;\n",
       "    }\n",
       "\n",
       "    .dataframe tbody tr th {\n",
       "        vertical-align: top;\n",
       "    }\n",
       "\n",
       "    .dataframe thead th {\n",
       "        text-align: right;\n",
       "    }\n",
       "</style>\n",
       "<table border=\"1\" class=\"dataframe\">\n",
       "  <thead>\n",
       "    <tr style=\"text-align: right;\">\n",
       "      <th></th>\n",
       "      <th>Title</th>\n",
       "      <th>Author</th>\n",
       "      <th>Rating</th>\n",
       "      <th>Year</th>\n",
       "      <th>Awards</th>\n",
       "      <th>Users who rated</th>\n",
       "    </tr>\n",
       "  </thead>\n",
       "  <tbody>\n",
       "    <tr>\n",
       "      <th>0</th>\n",
       "      <td>Carrie</td>\n",
       "      <td>Stephen King</td>\n",
       "      <td>7,0</td>\n",
       "      <td>1976</td>\n",
       "      <td>[Mejor actriz principal, Mejor actriz de repar...</td>\n",
       "      <td>57.306</td>\n",
       "    </tr>\n",
       "    <tr>\n",
       "      <th>1</th>\n",
       "      <td>Phantasma II</td>\n",
       "      <td>Stephen King</td>\n",
       "      <td>6,2</td>\n",
       "      <td>1979</td>\n",
       "      <td></td>\n",
       "      <td>703</td>\n",
       "    </tr>\n",
       "    <tr>\n",
       "      <th>2</th>\n",
       "      <td>El misterio de Salem's Lot</td>\n",
       "      <td>Stephen King</td>\n",
       "      <td>6,4</td>\n",
       "      <td>1979</td>\n",
       "      <td></td>\n",
       "      <td>3.361</td>\n",
       "    </tr>\n",
       "    <tr>\n",
       "      <th>3</th>\n",
       "      <td>El resplandor</td>\n",
       "      <td>Stephen King</td>\n",
       "      <td>8,2</td>\n",
       "      <td>1980</td>\n",
       "      <td>[Peor dirección, Peor actriz, Mejor productor ...</td>\n",
       "      <td>149.166</td>\n",
       "    </tr>\n",
       "    <tr>\n",
       "      <th>4</th>\n",
       "      <td>El hombre del saco</td>\n",
       "      <td>Stephen King</td>\n",
       "      <td>4,4</td>\n",
       "      <td>1982</td>\n",
       "      <td></td>\n",
       "      <td>116</td>\n",
       "    </tr>\n",
       "    <tr>\n",
       "      <th>...</th>\n",
       "      <td>...</td>\n",
       "      <td>...</td>\n",
       "      <td>...</td>\n",
       "      <td>...</td>\n",
       "      <td>...</td>\n",
       "      <td>...</td>\n",
       "    </tr>\n",
       "    <tr>\n",
       "      <th>174</th>\n",
       "      <td>El Señor de los Anillos: La Guerra del Norte</td>\n",
       "      <td>J. R. R. Tolkien</td>\n",
       "      <td>6,0</td>\n",
       "      <td>2011</td>\n",
       "      <td></td>\n",
       "      <td>25</td>\n",
       "    </tr>\n",
       "    <tr>\n",
       "      <th>175</th>\n",
       "      <td>The Lord of the Rings: Tactics</td>\n",
       "      <td>J. R. R. Tolkien</td>\n",
       "      <td>--</td>\n",
       "      <td>2005</td>\n",
       "      <td></td>\n",
       "      <td>25</td>\n",
       "    </tr>\n",
       "    <tr>\n",
       "      <th>176</th>\n",
       "      <td>El Hobbit</td>\n",
       "      <td>J. R. R. Tolkien</td>\n",
       "      <td>--</td>\n",
       "      <td>2003</td>\n",
       "      <td></td>\n",
       "      <td>25</td>\n",
       "    </tr>\n",
       "    <tr>\n",
       "      <th>177</th>\n",
       "      <td>Tales of the Shire</td>\n",
       "      <td>J. R. R. Tolkien</td>\n",
       "      <td>--</td>\n",
       "      <td>2024</td>\n",
       "      <td></td>\n",
       "      <td>25</td>\n",
       "    </tr>\n",
       "    <tr>\n",
       "      <th>178</th>\n",
       "      <td>Jackanory</td>\n",
       "      <td>J. R. R. Tolkien</td>\n",
       "      <td>--</td>\n",
       "      <td>1965</td>\n",
       "      <td></td>\n",
       "      <td>25</td>\n",
       "    </tr>\n",
       "  </tbody>\n",
       "</table>\n",
       "<p>179 rows × 6 columns</p>\n",
       "</div>"
      ],
      "text/plain": [
       "                                            Title            Author Rating  \\\n",
       "0                                          Carrie      Stephen King    7,0   \n",
       "1                                    Phantasma II      Stephen King    6,2   \n",
       "2                      El misterio de Salem's Lot      Stephen King    6,4   \n",
       "3                                   El resplandor      Stephen King    8,2   \n",
       "4                              El hombre del saco      Stephen King    4,4   \n",
       "..                                            ...               ...    ...   \n",
       "174  El Señor de los Anillos: La Guerra del Norte  J. R. R. Tolkien    6,0   \n",
       "175                The Lord of the Rings: Tactics  J. R. R. Tolkien     --   \n",
       "176                                     El Hobbit  J. R. R. Tolkien     --   \n",
       "177                            Tales of the Shire  J. R. R. Tolkien     --   \n",
       "178                                     Jackanory  J. R. R. Tolkien     --   \n",
       "\n",
       "     Year                                             Awards Users who rated  \n",
       "0    1976  [Mejor actriz principal, Mejor actriz de repar...          57.306  \n",
       "1    1979                                                                703  \n",
       "2    1979                                                              3.361  \n",
       "3    1980  [Peor dirección, Peor actriz, Mejor productor ...         149.166  \n",
       "4    1982                                                                116  \n",
       "..    ...                                                ...             ...  \n",
       "174  2011                                                                 25  \n",
       "175  2005                                                                 25  \n",
       "176  2003                                                                 25  \n",
       "177  2024                                                                 25  \n",
       "178  1965                                                                 25  \n",
       "\n",
       "[179 rows x 6 columns]"
      ]
     },
     "execution_count": 59,
     "metadata": {},
     "output_type": "execute_result"
    }
   ],
   "source": [
    "\n",
    "\n",
    "from colorama import Fore\n",
    "import requests\n",
    "from bs4 import BeautifulSoup\n",
    "\n",
    "urls = ['https://www.filmaffinity.com/cl/movie-group.php?group-id=40&chv=list&orderby=pos&p=1','https://www.filmaffinity.com/cl/movie-group.php?group-id=231&orderby=pos&chv=list','https://www.filmaffinity.com/cl/movie-group.php?group-id=5&p=1&orderby=pos&chv=list']\n",
    "\n",
    "column_headers = ['Title','Author','Rating','Year','Awards','Users who rated']\n",
    "\n",
    "title = ''\n",
    "author = ''\n",
    "rating = ''\n",
    "year = ''\n",
    "awards = ''\n",
    "users_who_rated = ''\n",
    "\n",
    "dataframe = pd.DataFrame(columns=column_headers)\n",
    "numero_url = 1\n",
    "for url in urls:\n",
    "    print(\"Estamos en la url numero \" + str(numero_url))\n",
    "    page = requests.get(url)\n",
    "    soup = BeautifulSoup(page.text,'html')\n",
    "    lista = soup.find_all('ul', class_='movie-group-movies')\n",
    "\n",
    "    etiqueta_autor = soup.find('h1',id='main-title')\n",
    "    autor = etiqueta_autor.text.replace('Grupo: Adaptaciones de ','').strip()\n",
    "\n",
    "    pager = soup.find('div',class_='pager')\n",
    "\n",
    "    if pager:\n",
    "        links_paginas = pager.find_all('a')\n",
    "        arreglo_paginas = []\n",
    "        for hrefs in links_paginas[:-1]:\n",
    "            pagina = hrefs.get('href')\n",
    "            arreglo_paginas.append(pagina)\n",
    "\n",
    "    else:\n",
    "        arreglo_paginas = []\n",
    "    numero_url+=1\n",
    "    \n",
    "    loops = 0\n",
    "    \n",
    "    while loops < len(arreglo_paginas) + 1:\n",
    "        for li in lista[0].find_all('li'):\n",
    "            #obtener pagina de la obra para extraer premios\n",
    "            a = li.find_all('a')[0]\n",
    "            href = a.get('href')\n",
    "            page2 = requests.get(href)\n",
    "            soup2=BeautifulSoup(page2.text,'html')\n",
    "            #-----------------------------------------------------------\n",
    "\n",
    "            author = autor\n",
    "            for nombre_obra in li.find_all('div', class_='mc-title'):#titulo\n",
    "                title = nombre_obra.text.strip()\n",
    "            for anio in li.find_all('span',class_='mc-year'):#año\n",
    "                year = anio.text.strip()\n",
    "            for rate in li.find_all('div',class_='avgrat-box'):#rating\n",
    "                rating = rate.text.strip()\n",
    "            for count in li.find_all('div',class_='ratcount-box'):#usuarios que calificaron\n",
    "                users_who_rated = count.text.strip()\n",
    "            #obtener premios de la obra\n",
    "            \n",
    "            premios = soup2.find_all('dd',class_='award')\n",
    "            if premios:\n",
    "                etiqueta_em = premios[0].find('em')\n",
    "                a2 = etiqueta_em.find('a')\n",
    "                href2 = a2.get('href')\n",
    "                \n",
    "                awards_page = requests.get(href2)\n",
    "                soup3 = BeautifulSoup(awards_page.text, 'html')\n",
    "\n",
    "                ul_premios = soup3.find('ul',class_= 'awards-list')\n",
    "\n",
    "                lista_premios = []\n",
    "                for li_premios in ul_premios.find_all('li'):\n",
    "                    for ul_premio in li_premios.find_all('ul'):\n",
    "                        for li_premio in ul_premio.find_all('li'):\n",
    "                            premio = li_premio.find('a').text.strip()\n",
    "                            lista_premios.append(premio)\n",
    "                awards = lista_premios\n",
    "                fila_temp = pd.Series([title, author, rating, year, awards, users_who_rated], index=column_headers)\n",
    "                dataframe = pd.concat([dataframe, fila_temp.to_frame().T], ignore_index=True)\n",
    "\n",
    "            else:\n",
    "                awards = \"\"\n",
    "                fila_temp = pd.Series([title, author, rating, year, awards, users_who_rated], index=column_headers)\n",
    "                dataframe = pd.concat([dataframe, fila_temp.to_frame().T], ignore_index=True)  \n",
    "        loops+=1\n",
    "        if (len(arreglo_paginas) >= 1) and (loops <= len(arreglo_paginas)):\n",
    "            page = requests.get(arreglo_paginas[loops - 1])\n",
    "            soup = BeautifulSoup(page.text,'html')\n",
    "            lista = soup.find_all('ul', class_='movie-group-movies')\n",
    "\n",
    "\n",
    "\n",
    "dataframe\n",
    "\n",
    "\n",
    "\n"
   ]
  },
  {
   "cell_type": "markdown",
   "metadata": {},
   "source": [
    "Parte de escritores\n"
   ]
  },
  {
   "cell_type": "code",
   "execution_count": 22,
   "metadata": {},
   "outputs": [
    {
     "data": {
      "application/vnd.plotly.v1+json": {
       "config": {
        "plotlyServerURL": "https://plot.ly"
       },
       "data": [
        {
         "link": {
          "color": [
           "#927785",
           "#927785",
           "#927785",
           "#927785",
           "#eced87",
           "#eced87",
           "#eced87",
           "#eced87",
           "#eced87",
           "#eced87",
           "#eced87",
           "#eced87",
           "#eced87",
           "#eced87",
           "#eced87",
           "#eced87",
           "#eced87",
           "#eced87",
           "#74a7e4",
           "#74a7e4",
           "#74a7e4",
           "#74a7e4",
           "#74a7e4",
           "#74a7e4",
           "#74a7e4",
           "#74a7e4",
           "#74a7e4",
           "#74a7e4",
           "#74a7e4"
          ],
          "source": [
           0,
           0,
           0,
           0,
           5,
           5,
           5,
           5,
           5,
           5,
           5,
           5,
           5,
           5,
           5,
           5,
           5,
           5,
           16,
           16,
           16,
           16,
           16,
           16,
           16,
           16,
           16,
           16,
           16
          ],
          "target": [
           1,
           2,
           3,
           4,
           1,
           6,
           7,
           8,
           2,
           9,
           10,
           11,
           12,
           13,
           3,
           14,
           15,
           4,
           17,
           1,
           6,
           7,
           2,
           9,
           10,
           12,
           13,
           3,
           14
          ],
          "value": [
           1,
           1,
           1,
           1,
           9,
           16,
           3,
           9,
           3,
           10,
           8,
           8,
           9,
           17,
           11,
           6,
           6,
           11,
           9,
           1,
           2,
           3,
           3,
           2,
           5,
           1,
           6,
           2,
           1
          ]
         },
         "node": {
          "label": [
           "Dan Brown",
           "Mejor banda sonora",
           "Mejor film de habla extranjera",
           "Mejor sonido",
           "Mejores efectos visuales",
           "J. R. R. Tolkien",
           "Mejor dirección",
           "Mejor dirección / película",
           "Mejor diseño de producción",
           "Mejor fotografía",
           "Mejor guion adaptado",
           "Mejor maquillaje y peluquería",
           "Mejor montaje",
           "Mejor película",
           "Mejor vestuario",
           "Mejores efectos especiales visuales",
           "Stephen King",
           "Grand Prix (Mejor película)"
          ],
          "line": {
           "color": "black",
           "width": 0.5
          },
          "pad": 15,
          "thickness": 20
         },
         "type": "sankey"
        }
       ],
       "layout": {
        "template": {
         "data": {
          "bar": [
           {
            "error_x": {
             "color": "#2a3f5f"
            },
            "error_y": {
             "color": "#2a3f5f"
            },
            "marker": {
             "line": {
              "color": "#E5ECF6",
              "width": 0.5
             },
             "pattern": {
              "fillmode": "overlay",
              "size": 10,
              "solidity": 0.2
             }
            },
            "type": "bar"
           }
          ],
          "barpolar": [
           {
            "marker": {
             "line": {
              "color": "#E5ECF6",
              "width": 0.5
             },
             "pattern": {
              "fillmode": "overlay",
              "size": 10,
              "solidity": 0.2
             }
            },
            "type": "barpolar"
           }
          ],
          "carpet": [
           {
            "aaxis": {
             "endlinecolor": "#2a3f5f",
             "gridcolor": "white",
             "linecolor": "white",
             "minorgridcolor": "white",
             "startlinecolor": "#2a3f5f"
            },
            "baxis": {
             "endlinecolor": "#2a3f5f",
             "gridcolor": "white",
             "linecolor": "white",
             "minorgridcolor": "white",
             "startlinecolor": "#2a3f5f"
            },
            "type": "carpet"
           }
          ],
          "choropleth": [
           {
            "colorbar": {
             "outlinewidth": 0,
             "ticks": ""
            },
            "type": "choropleth"
           }
          ],
          "contour": [
           {
            "colorbar": {
             "outlinewidth": 0,
             "ticks": ""
            },
            "colorscale": [
             [
              0,
              "#0d0887"
             ],
             [
              0.1111111111111111,
              "#46039f"
             ],
             [
              0.2222222222222222,
              "#7201a8"
             ],
             [
              0.3333333333333333,
              "#9c179e"
             ],
             [
              0.4444444444444444,
              "#bd3786"
             ],
             [
              0.5555555555555556,
              "#d8576b"
             ],
             [
              0.6666666666666666,
              "#ed7953"
             ],
             [
              0.7777777777777778,
              "#fb9f3a"
             ],
             [
              0.8888888888888888,
              "#fdca26"
             ],
             [
              1,
              "#f0f921"
             ]
            ],
            "type": "contour"
           }
          ],
          "contourcarpet": [
           {
            "colorbar": {
             "outlinewidth": 0,
             "ticks": ""
            },
            "type": "contourcarpet"
           }
          ],
          "heatmap": [
           {
            "colorbar": {
             "outlinewidth": 0,
             "ticks": ""
            },
            "colorscale": [
             [
              0,
              "#0d0887"
             ],
             [
              0.1111111111111111,
              "#46039f"
             ],
             [
              0.2222222222222222,
              "#7201a8"
             ],
             [
              0.3333333333333333,
              "#9c179e"
             ],
             [
              0.4444444444444444,
              "#bd3786"
             ],
             [
              0.5555555555555556,
              "#d8576b"
             ],
             [
              0.6666666666666666,
              "#ed7953"
             ],
             [
              0.7777777777777778,
              "#fb9f3a"
             ],
             [
              0.8888888888888888,
              "#fdca26"
             ],
             [
              1,
              "#f0f921"
             ]
            ],
            "type": "heatmap"
           }
          ],
          "heatmapgl": [
           {
            "colorbar": {
             "outlinewidth": 0,
             "ticks": ""
            },
            "colorscale": [
             [
              0,
              "#0d0887"
             ],
             [
              0.1111111111111111,
              "#46039f"
             ],
             [
              0.2222222222222222,
              "#7201a8"
             ],
             [
              0.3333333333333333,
              "#9c179e"
             ],
             [
              0.4444444444444444,
              "#bd3786"
             ],
             [
              0.5555555555555556,
              "#d8576b"
             ],
             [
              0.6666666666666666,
              "#ed7953"
             ],
             [
              0.7777777777777778,
              "#fb9f3a"
             ],
             [
              0.8888888888888888,
              "#fdca26"
             ],
             [
              1,
              "#f0f921"
             ]
            ],
            "type": "heatmapgl"
           }
          ],
          "histogram": [
           {
            "marker": {
             "pattern": {
              "fillmode": "overlay",
              "size": 10,
              "solidity": 0.2
             }
            },
            "type": "histogram"
           }
          ],
          "histogram2d": [
           {
            "colorbar": {
             "outlinewidth": 0,
             "ticks": ""
            },
            "colorscale": [
             [
              0,
              "#0d0887"
             ],
             [
              0.1111111111111111,
              "#46039f"
             ],
             [
              0.2222222222222222,
              "#7201a8"
             ],
             [
              0.3333333333333333,
              "#9c179e"
             ],
             [
              0.4444444444444444,
              "#bd3786"
             ],
             [
              0.5555555555555556,
              "#d8576b"
             ],
             [
              0.6666666666666666,
              "#ed7953"
             ],
             [
              0.7777777777777778,
              "#fb9f3a"
             ],
             [
              0.8888888888888888,
              "#fdca26"
             ],
             [
              1,
              "#f0f921"
             ]
            ],
            "type": "histogram2d"
           }
          ],
          "histogram2dcontour": [
           {
            "colorbar": {
             "outlinewidth": 0,
             "ticks": ""
            },
            "colorscale": [
             [
              0,
              "#0d0887"
             ],
             [
              0.1111111111111111,
              "#46039f"
             ],
             [
              0.2222222222222222,
              "#7201a8"
             ],
             [
              0.3333333333333333,
              "#9c179e"
             ],
             [
              0.4444444444444444,
              "#bd3786"
             ],
             [
              0.5555555555555556,
              "#d8576b"
             ],
             [
              0.6666666666666666,
              "#ed7953"
             ],
             [
              0.7777777777777778,
              "#fb9f3a"
             ],
             [
              0.8888888888888888,
              "#fdca26"
             ],
             [
              1,
              "#f0f921"
             ]
            ],
            "type": "histogram2dcontour"
           }
          ],
          "mesh3d": [
           {
            "colorbar": {
             "outlinewidth": 0,
             "ticks": ""
            },
            "type": "mesh3d"
           }
          ],
          "parcoords": [
           {
            "line": {
             "colorbar": {
              "outlinewidth": 0,
              "ticks": ""
             }
            },
            "type": "parcoords"
           }
          ],
          "pie": [
           {
            "automargin": true,
            "type": "pie"
           }
          ],
          "scatter": [
           {
            "fillpattern": {
             "fillmode": "overlay",
             "size": 10,
             "solidity": 0.2
            },
            "type": "scatter"
           }
          ],
          "scatter3d": [
           {
            "line": {
             "colorbar": {
              "outlinewidth": 0,
              "ticks": ""
             }
            },
            "marker": {
             "colorbar": {
              "outlinewidth": 0,
              "ticks": ""
             }
            },
            "type": "scatter3d"
           }
          ],
          "scattercarpet": [
           {
            "marker": {
             "colorbar": {
              "outlinewidth": 0,
              "ticks": ""
             }
            },
            "type": "scattercarpet"
           }
          ],
          "scattergeo": [
           {
            "marker": {
             "colorbar": {
              "outlinewidth": 0,
              "ticks": ""
             }
            },
            "type": "scattergeo"
           }
          ],
          "scattergl": [
           {
            "marker": {
             "colorbar": {
              "outlinewidth": 0,
              "ticks": ""
             }
            },
            "type": "scattergl"
           }
          ],
          "scattermapbox": [
           {
            "marker": {
             "colorbar": {
              "outlinewidth": 0,
              "ticks": ""
             }
            },
            "type": "scattermapbox"
           }
          ],
          "scatterpolar": [
           {
            "marker": {
             "colorbar": {
              "outlinewidth": 0,
              "ticks": ""
             }
            },
            "type": "scatterpolar"
           }
          ],
          "scatterpolargl": [
           {
            "marker": {
             "colorbar": {
              "outlinewidth": 0,
              "ticks": ""
             }
            },
            "type": "scatterpolargl"
           }
          ],
          "scatterternary": [
           {
            "marker": {
             "colorbar": {
              "outlinewidth": 0,
              "ticks": ""
             }
            },
            "type": "scatterternary"
           }
          ],
          "surface": [
           {
            "colorbar": {
             "outlinewidth": 0,
             "ticks": ""
            },
            "colorscale": [
             [
              0,
              "#0d0887"
             ],
             [
              0.1111111111111111,
              "#46039f"
             ],
             [
              0.2222222222222222,
              "#7201a8"
             ],
             [
              0.3333333333333333,
              "#9c179e"
             ],
             [
              0.4444444444444444,
              "#bd3786"
             ],
             [
              0.5555555555555556,
              "#d8576b"
             ],
             [
              0.6666666666666666,
              "#ed7953"
             ],
             [
              0.7777777777777778,
              "#fb9f3a"
             ],
             [
              0.8888888888888888,
              "#fdca26"
             ],
             [
              1,
              "#f0f921"
             ]
            ],
            "type": "surface"
           }
          ],
          "table": [
           {
            "cells": {
             "fill": {
              "color": "#EBF0F8"
             },
             "line": {
              "color": "white"
             }
            },
            "header": {
             "fill": {
              "color": "#C8D4E3"
             },
             "line": {
              "color": "white"
             }
            },
            "type": "table"
           }
          ]
         },
         "layout": {
          "annotationdefaults": {
           "arrowcolor": "#2a3f5f",
           "arrowhead": 0,
           "arrowwidth": 1
          },
          "autotypenumbers": "strict",
          "coloraxis": {
           "colorbar": {
            "outlinewidth": 0,
            "ticks": ""
           }
          },
          "colorscale": {
           "diverging": [
            [
             0,
             "#8e0152"
            ],
            [
             0.1,
             "#c51b7d"
            ],
            [
             0.2,
             "#de77ae"
            ],
            [
             0.3,
             "#f1b6da"
            ],
            [
             0.4,
             "#fde0ef"
            ],
            [
             0.5,
             "#f7f7f7"
            ],
            [
             0.6,
             "#e6f5d0"
            ],
            [
             0.7,
             "#b8e186"
            ],
            [
             0.8,
             "#7fbc41"
            ],
            [
             0.9,
             "#4d9221"
            ],
            [
             1,
             "#276419"
            ]
           ],
           "sequential": [
            [
             0,
             "#0d0887"
            ],
            [
             0.1111111111111111,
             "#46039f"
            ],
            [
             0.2222222222222222,
             "#7201a8"
            ],
            [
             0.3333333333333333,
             "#9c179e"
            ],
            [
             0.4444444444444444,
             "#bd3786"
            ],
            [
             0.5555555555555556,
             "#d8576b"
            ],
            [
             0.6666666666666666,
             "#ed7953"
            ],
            [
             0.7777777777777778,
             "#fb9f3a"
            ],
            [
             0.8888888888888888,
             "#fdca26"
            ],
            [
             1,
             "#f0f921"
            ]
           ],
           "sequentialminus": [
            [
             0,
             "#0d0887"
            ],
            [
             0.1111111111111111,
             "#46039f"
            ],
            [
             0.2222222222222222,
             "#7201a8"
            ],
            [
             0.3333333333333333,
             "#9c179e"
            ],
            [
             0.4444444444444444,
             "#bd3786"
            ],
            [
             0.5555555555555556,
             "#d8576b"
            ],
            [
             0.6666666666666666,
             "#ed7953"
            ],
            [
             0.7777777777777778,
             "#fb9f3a"
            ],
            [
             0.8888888888888888,
             "#fdca26"
            ],
            [
             1,
             "#f0f921"
            ]
           ]
          },
          "colorway": [
           "#636efa",
           "#EF553B",
           "#00cc96",
           "#ab63fa",
           "#FFA15A",
           "#19d3f3",
           "#FF6692",
           "#B6E880",
           "#FF97FF",
           "#FECB52"
          ],
          "font": {
           "color": "#2a3f5f"
          },
          "geo": {
           "bgcolor": "white",
           "lakecolor": "white",
           "landcolor": "#E5ECF6",
           "showlakes": true,
           "showland": true,
           "subunitcolor": "white"
          },
          "hoverlabel": {
           "align": "left"
          },
          "hovermode": "closest",
          "mapbox": {
           "style": "light"
          },
          "paper_bgcolor": "white",
          "plot_bgcolor": "#E5ECF6",
          "polar": {
           "angularaxis": {
            "gridcolor": "white",
            "linecolor": "white",
            "ticks": ""
           },
           "bgcolor": "#E5ECF6",
           "radialaxis": {
            "gridcolor": "white",
            "linecolor": "white",
            "ticks": ""
           }
          },
          "scene": {
           "xaxis": {
            "backgroundcolor": "#E5ECF6",
            "gridcolor": "white",
            "gridwidth": 2,
            "linecolor": "white",
            "showbackground": true,
            "ticks": "",
            "zerolinecolor": "white"
           },
           "yaxis": {
            "backgroundcolor": "#E5ECF6",
            "gridcolor": "white",
            "gridwidth": 2,
            "linecolor": "white",
            "showbackground": true,
            "ticks": "",
            "zerolinecolor": "white"
           },
           "zaxis": {
            "backgroundcolor": "#E5ECF6",
            "gridcolor": "white",
            "gridwidth": 2,
            "linecolor": "white",
            "showbackground": true,
            "ticks": "",
            "zerolinecolor": "white"
           }
          },
          "shapedefaults": {
           "line": {
            "color": "#2a3f5f"
           }
          },
          "ternary": {
           "aaxis": {
            "gridcolor": "white",
            "linecolor": "white",
            "ticks": ""
           },
           "baxis": {
            "gridcolor": "white",
            "linecolor": "white",
            "ticks": ""
           },
           "bgcolor": "#E5ECF6",
           "caxis": {
            "gridcolor": "white",
            "linecolor": "white",
            "ticks": ""
           }
          },
          "title": {
           "x": 0.05
          },
          "xaxis": {
           "automargin": true,
           "gridcolor": "white",
           "linecolor": "white",
           "ticks": "",
           "title": {
            "standoff": 15
           },
           "zerolinecolor": "white",
           "zerolinewidth": 2
          },
          "yaxis": {
           "automargin": true,
           "gridcolor": "white",
           "linecolor": "white",
           "ticks": "",
           "title": {
            "standoff": 15
           },
           "zerolinecolor": "white",
           "zerolinewidth": 2
          }
         }
        },
        "title": {
         "text": "Adaptaciones de escritores nominadas/ganadoras de premios"
        }
       }
      }
     },
     "metadata": {},
     "output_type": "display_data"
    }
   ],
   "source": [
    "#dataframe.to_csv('filmaffinity.csv', index=False)\n",
    "#df_sin_duplicados = dataframe.drop_duplicates(subset=[col for col in dataframe.columns if col != 'Awards'])\n",
    "#df_sin_duplicados.to_csv('sinDuplicados.csv', index=False)\n",
    "\n",
    "#-------------------Limpieza y orden de los datos-------------------\n",
    "path = 'filmaffinity.csv'\n",
    "df = pd.read_csv(path)\n",
    "\n",
    "#eliminar duplicados\n",
    "df_sin_duplicados = df.drop_duplicates(subset=[col for col in df.columns if col != 'Awards']) \n",
    "\n",
    "#crear un nuevo dataframe con la informacion que vamos a manipular\n",
    "nuevo_dataframe = df_sin_duplicados.loc[:, ['Author', 'Awards']]\n",
    "\n",
    "#se eliminan los espacios vacios\n",
    "dataframe_sin_vacios = nuevo_dataframe.dropna(subset=['Awards'], thresh=1) \n",
    "\n",
    "#se reemplazan los espacios vacios por una cadena cualquiera\n",
    "dataframe_sin_vacios['Awards'] = dataframe_sin_vacios['Awards'].replace(\"\",\"buenas\")\n",
    "\n",
    "#se eliminan las \"\" que encierran a las listas en el csv\n",
    "dataframe_sin_vacios['Awards'] = dataframe_sin_vacios['Awards'].apply(ast.literal_eval)\n",
    "\n",
    "#se filtra el dataframe ahora sin las filas con valor buenas\n",
    "dataframe_sin_vacios = dataframe_sin_vacios[dataframe_sin_vacios['Awards'] != \"buenas\"] \n",
    "\n",
    "# se filtrar el dataframe para excluir las filas que tienen listas vacías en la columna 'Awards'\n",
    "dataframe_sin_vacios = dataframe_sin_vacios[dataframe_sin_vacios['Awards'].apply(lambda x: len(x) != 0)]\n",
    "\n",
    "# se separan las listas de la columna Awards\n",
    "df_final = dataframe_sin_vacios.explode('Awards')\n",
    "\n",
    "#-------------------Limpieza y orden de los datos-------------------\n",
    "\n",
    "\n",
    "\n",
    "\n",
    "#---------------------Visualizacion----------------------------\n",
    "\n",
    "# se obtienen los 15 premios más repetidos\n",
    "top_awards = df_final['Awards'].value_counts().head(15).index\n",
    "\n",
    "# se filtra el dataframe para incluir solo los premios más repetidos\n",
    "df_top_awards = df_final[df_final['Awards'].isin(top_awards)]\n",
    "\n",
    "# se agrupa por autor y premio y contar la frecuencia\n",
    "grouped = df_top_awards.groupby(['Author', 'Awards']).size().reset_index(name='Frequency')\n",
    "\n",
    "# Crear listas de nodos y enlaces\n",
    "nodos = []\n",
    "nodo_labels = {}\n",
    "nodo_indices = 0\n",
    "links = []\n",
    "colores_enlaces = ['#927785', '#74a7e4', '#eced87']\n",
    "for author, award, freq in zip(grouped['Author'], grouped['Awards'], grouped['Frequency']):\n",
    "    if author not in nodo_labels:\n",
    "        nodo_labels[author] = nodo_indices\n",
    "        nodos.append(author)\n",
    "        nodo_indices += 1\n",
    "    if award not in nodo_labels:\n",
    "        nodo_labels[award] = nodo_indices\n",
    "        nodos.append(award)\n",
    "        nodo_indices += 1\n",
    "    links.append({\n",
    "        'source': nodo_labels[author],\n",
    "        'target': nodo_labels[award],\n",
    "        'value': freq,\n",
    "        'color': colores_enlaces[nodo_labels[author] % len(colores_enlaces)]\n",
    "    })\n",
    "\n",
    "\n",
    "fig = go.Figure(data=[go.Sankey(\n",
    "    node=dict(\n",
    "        pad=15,\n",
    "        thickness=20,\n",
    "        line=dict(color=\"black\", width=0.5),\n",
    "        label=nodos\n",
    "    ),\n",
    "    link=dict(\n",
    "        source=[link['source'] for link in links],\n",
    "        target=[link['target'] for link in links],\n",
    "        value=[link['value'] for link in links],\n",
    "        color=[link['color'] for link in links]\n",
    "    )\n",
    ")])\n",
    "\n",
    "fig.update_layout(title_text=\"Adaptaciones de escritores nominadas/ganadoras de premios\")\n",
    "\n",
    "fig.show()\n",
    "\n",
    "#---------------------Visualizacion----------------------------\n",
    "\n"
   ]
  }
 ],
 "metadata": {
  "kernelspec": {
   "display_name": "Python 3",
   "language": "python",
   "name": "python3"
  },
  "language_info": {
   "codemirror_mode": {
    "name": "ipython",
    "version": 3
   },
   "file_extension": ".py",
   "mimetype": "text/x-python",
   "name": "python",
   "nbconvert_exporter": "python",
   "pygments_lexer": "ipython3",
   "version": "3.12.1"
  }
 },
 "nbformat": 4,
 "nbformat_minor": 2
}
